{
 "cells": [
  {
   "cell_type": "code",
   "execution_count": 29,
   "metadata": {},
   "outputs": [],
   "source": [
    "#Finding intersection in lists or arrays with a simple function \n",
    "\n",
    "lst1 = [3, 21, 10, 22, 55, 12, 96]\n",
    "lst2 = [9, 10, 74, 71, 45, 3, 45]\n",
    "\n",
    "def find_inter(lst1, lst2): \n",
    "    lst3 = [num for num in lst1 if num in lst2] \n",
    "    \n",
    "    return lst3"
   ]
  },
  {
   "cell_type": "code",
   "execution_count": 31,
   "metadata": {},
   "outputs": [
    {
     "data": {
      "text/plain": [
       "[3, 10]"
      ]
     },
     "execution_count": 31,
     "metadata": {},
     "output_type": "execute_result"
    }
   ],
   "source": [
    "find_inter(lst1, lst2)"
   ]
  },
  {
   "cell_type": "code",
   "execution_count": 35,
   "metadata": {},
   "outputs": [
    {
     "name": "stdout",
     "output_type": "stream",
     "text": [
      "[[3], [1], [0]]\n"
     ]
    }
   ],
   "source": [
    "#Using Filters and Lamda function \n",
    "def use_map(lst1, lst2): \n",
    "    lst3 = [list(filter(lambda num: num in lst1, sublst)) for sublst in lst2] \n",
    "    return lst3 \n",
    "   \n",
    "lst1 = [77, 82, 0, 9, 3, 4, 90, 44, 10, 1] \n",
    "lst2 = [[3, 89, 19, 66], [79, 1, 84, 11], [2, 0, 55, 100, 99]] \n",
    "print(intersection(lst1, lst2)) "
   ]
  }
 ],
 "metadata": {
  "kernelspec": {
   "display_name": "Python 3",
   "language": "python",
   "name": "python3"
  },
  "language_info": {
   "codemirror_mode": {
    "name": "ipython",
    "version": 3
   },
   "file_extension": ".py",
   "mimetype": "text/x-python",
   "name": "python",
   "nbconvert_exporter": "python",
   "pygments_lexer": "ipython3",
   "version": "3.7.3"
  }
 },
 "nbformat": 4,
 "nbformat_minor": 2
}
